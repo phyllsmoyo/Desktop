{
  "nbformat": 4,
  "nbformat_minor": 0,
  "metadata": {
    "colab": {
      "name": "Stock Price Prediction.ipynb",
      "provenance": [],
      "collapsed_sections": []
    },
    "kernelspec": {
      "name": "python3",
      "display_name": "Python 3"
    },
    "language_info": {
      "name": "python"
    }
  },
  "cells": [
    {
      "cell_type": "code",
      "metadata": {
        "id": "SxgMnl-dIwLM"
      },
      "source": [
        "# This python will be used to predict stock price.\n",
        "# Time series analysis will be used in order to make the prediction.\n",
        "# Time series analysis can be useful to see how stock price changes over time.\n",
        "# A time series can be taken on any variable that changes over time.\n"
      ],
      "execution_count": 51,
      "outputs": []
    },
    {
      "cell_type": "code",
      "metadata": {
        "id": "Jtp8UFuLLN7m"
      },
      "source": [
        "# Tools that will be used in this project\n",
        "  # Python\n",
        "  # Jupyter Notebooks\n",
        "  # Markdown (still need to learn)\n",
        "  # Pandas\n",
        "  # matplotlib\n",
        "  # Numpy\n",
        "  # Scikit Learn\n",
        "  # Time Series Analysis\n",
        "  # Web Scrapping (Still need to learn Beautiful Soup)\n"
      ],
      "execution_count": 52,
      "outputs": []
    },
    {
      "cell_type": "code",
      "metadata": {
        "id": "3CIdlQlvKGhi"
      },
      "source": [
        "# import the required python libraries to use.\n",
        "import numpy as np # Python is used for working with arrays.\n",
        "import pandas as pd # Pandas is used to analyze data.\n",
        "import matplotlib.pyplot as plt #for plotting the data \n",
        "# Diplay the plots in the jupyter notebooks\n",
        "%matplotlib inline \n",
        "# Specify the style sheet to use\n",
        "plt.style.use('seaborn')\n",
        "# Module supplies classes for manipulating dates and times.\n",
        "from datetime import datetime, timedelta\n",
        "# Matplotlib.dates provides sophisticated date plotting capabilities\n",
        "import matplotlib.dates as mpl_dates \n",
        "# Transform features by scaling each feature to a given range\n",
        "from sklearn.preprocessing import MinMaxScaler\n"
      ],
      "execution_count": 84,
      "outputs": []
    },
    {
      "cell_type": "code",
      "metadata": {
        "colab": {
          "base_uri": "https://localhost:8080/",
          "height": 204
        },
        "id": "EQgQERM_MV9N",
        "outputId": "5987f49a-5c39-4d10-9bb0-a8cc2fc616b0"
      },
      "source": [
        "# Data to be used.\n",
        "# We will use BeautifulSoup to obtain the JSE data to use for this project\n",
        "# Currently the Data is not avaible and we will use Yahoo Finance Data for google stock\n",
        "\n",
        "# Stock data from Yahoo Finance\n",
        "link = \"https://query1.finance.yahoo.com/v7/finance/download/GOOG?period1=1603054888&period2=1634590888&interval=1d&events=history&includeAdjustedClose=true\"\n",
        "\n",
        "#Reading the CSV data into a pandas data dataframe\n",
        "goog = pd.read_csv(link)\n",
        "# Reading the firt few lines of the data\n",
        "goog.head()"
      ],
      "execution_count": 102,
      "outputs": [
        {
          "output_type": "execute_result",
          "data": {
            "text/html": [
              "<div>\n",
              "<style scoped>\n",
              "    .dataframe tbody tr th:only-of-type {\n",
              "        vertical-align: middle;\n",
              "    }\n",
              "\n",
              "    .dataframe tbody tr th {\n",
              "        vertical-align: top;\n",
              "    }\n",
              "\n",
              "    .dataframe thead th {\n",
              "        text-align: right;\n",
              "    }\n",
              "</style>\n",
              "<table border=\"1\" class=\"dataframe\">\n",
              "  <thead>\n",
              "    <tr style=\"text-align: right;\">\n",
              "      <th></th>\n",
              "      <th>Date</th>\n",
              "      <th>Open</th>\n",
              "      <th>High</th>\n",
              "      <th>Low</th>\n",
              "      <th>Close</th>\n",
              "      <th>Adj Close</th>\n",
              "      <th>Volume</th>\n",
              "    </tr>\n",
              "  </thead>\n",
              "  <tbody>\n",
              "    <tr>\n",
              "      <th>0</th>\n",
              "      <td>2020-10-19</td>\n",
              "      <td>1580.459961</td>\n",
              "      <td>1588.150024</td>\n",
              "      <td>1528.000000</td>\n",
              "      <td>1534.609985</td>\n",
              "      <td>1534.609985</td>\n",
              "      <td>1607100</td>\n",
              "    </tr>\n",
              "    <tr>\n",
              "      <th>1</th>\n",
              "      <td>2020-10-20</td>\n",
              "      <td>1527.050049</td>\n",
              "      <td>1577.500000</td>\n",
              "      <td>1525.670044</td>\n",
              "      <td>1555.930054</td>\n",
              "      <td>1555.930054</td>\n",
              "      <td>2241700</td>\n",
              "    </tr>\n",
              "    <tr>\n",
              "      <th>2</th>\n",
              "      <td>2020-10-21</td>\n",
              "      <td>1573.329956</td>\n",
              "      <td>1618.729980</td>\n",
              "      <td>1571.630005</td>\n",
              "      <td>1593.310059</td>\n",
              "      <td>1593.310059</td>\n",
              "      <td>2568300</td>\n",
              "    </tr>\n",
              "    <tr>\n",
              "      <th>3</th>\n",
              "      <td>2020-10-22</td>\n",
              "      <td>1593.050049</td>\n",
              "      <td>1621.989990</td>\n",
              "      <td>1585.000000</td>\n",
              "      <td>1615.329956</td>\n",
              "      <td>1615.329956</td>\n",
              "      <td>1433600</td>\n",
              "    </tr>\n",
              "    <tr>\n",
              "      <th>4</th>\n",
              "      <td>2020-10-23</td>\n",
              "      <td>1626.069946</td>\n",
              "      <td>1642.359985</td>\n",
              "      <td>1620.510010</td>\n",
              "      <td>1641.000000</td>\n",
              "      <td>1641.000000</td>\n",
              "      <td>1375800</td>\n",
              "    </tr>\n",
              "  </tbody>\n",
              "</table>\n",
              "</div>"
            ],
            "text/plain": [
              "         Date         Open         High  ...        Close    Adj Close   Volume\n",
              "0  2020-10-19  1580.459961  1588.150024  ...  1534.609985  1534.609985  1607100\n",
              "1  2020-10-20  1527.050049  1577.500000  ...  1555.930054  1555.930054  2241700\n",
              "2  2020-10-21  1573.329956  1618.729980  ...  1593.310059  1593.310059  2568300\n",
              "3  2020-10-22  1593.050049  1621.989990  ...  1615.329956  1615.329956  1433600\n",
              "4  2020-10-23  1626.069946  1642.359985  ...  1641.000000  1641.000000  1375800\n",
              "\n",
              "[5 rows x 7 columns]"
            ]
          },
          "metadata": {},
          "execution_count": 102
        }
      ]
    },
    {
      "cell_type": "code",
      "metadata": {
        "colab": {
          "base_uri": "https://localhost:8080/"
        },
        "id": "GcUvsqYuOgN3",
        "outputId": "7dfd565c-8824-46ae-d4d6-c23e8970b404"
      },
      "source": [
        "#Check the shape of the data\n",
        "rows = goog.shape[0]\n",
        "columns = goog.shape[1]\n",
        "print(f'The data contains {rows} rows and {columns} columns.')"
      ],
      "execution_count": 55,
      "outputs": [
        {
          "output_type": "stream",
          "name": "stdout",
          "text": [
            "The data contains 252 rows and 7 columns.\n"
          ]
        }
      ]
    },
    {
      "cell_type": "code",
      "metadata": {
        "colab": {
          "base_uri": "https://localhost:8080/",
          "height": 204
        },
        "id": "89yhbhWYP3uU",
        "outputId": "0eef5f34-a90d-47e0-8ab5-8febecdc595b"
      },
      "source": [
        "# Drop unnecessary columns\n",
        "\n",
        "# We will currently use the date and the CLose price to build our initial programe.\n",
        "google = goog[['Date', 'Close']]\n",
        "#Drop Date column\n",
        "#google_close = google.drop('Date', axis = 1)\n",
        "#google_close = google_close.reset_index(drop = True)\n",
        "google.head()"
      ],
      "execution_count": 64,
      "outputs": [
        {
          "output_type": "execute_result",
          "data": {
            "text/html": [
              "<div>\n",
              "<style scoped>\n",
              "    .dataframe tbody tr th:only-of-type {\n",
              "        vertical-align: middle;\n",
              "    }\n",
              "\n",
              "    .dataframe tbody tr th {\n",
              "        vertical-align: top;\n",
              "    }\n",
              "\n",
              "    .dataframe thead th {\n",
              "        text-align: right;\n",
              "    }\n",
              "</style>\n",
              "<table border=\"1\" class=\"dataframe\">\n",
              "  <thead>\n",
              "    <tr style=\"text-align: right;\">\n",
              "      <th></th>\n",
              "      <th>Date</th>\n",
              "      <th>Close</th>\n",
              "    </tr>\n",
              "  </thead>\n",
              "  <tbody>\n",
              "    <tr>\n",
              "      <th>0</th>\n",
              "      <td>2020-10-19</td>\n",
              "      <td>1534.609985</td>\n",
              "    </tr>\n",
              "    <tr>\n",
              "      <th>1</th>\n",
              "      <td>2020-10-20</td>\n",
              "      <td>1555.930054</td>\n",
              "    </tr>\n",
              "    <tr>\n",
              "      <th>2</th>\n",
              "      <td>2020-10-21</td>\n",
              "      <td>1593.310059</td>\n",
              "    </tr>\n",
              "    <tr>\n",
              "      <th>3</th>\n",
              "      <td>2020-10-22</td>\n",
              "      <td>1615.329956</td>\n",
              "    </tr>\n",
              "    <tr>\n",
              "      <th>4</th>\n",
              "      <td>2020-10-23</td>\n",
              "      <td>1641.000000</td>\n",
              "    </tr>\n",
              "  </tbody>\n",
              "</table>\n",
              "</div>"
            ],
            "text/plain": [
              "         Date        Close\n",
              "0  2020-10-19  1534.609985\n",
              "1  2020-10-20  1555.930054\n",
              "2  2020-10-21  1593.310059\n",
              "3  2020-10-22  1615.329956\n",
              "4  2020-10-23  1641.000000"
            ]
          },
          "metadata": {},
          "execution_count": 64
        }
      ]
    },
    {
      "cell_type": "code",
      "metadata": {
        "colab": {
          "base_uri": "https://localhost:8080/"
        },
        "id": "G08leJ08heZk",
        "outputId": "3570c396-687f-4b6d-d627-a3ece07752a0"
      },
      "source": [
        "google_N = google.copy()\n",
        "Close_N = google_N.Close.to_numpy()\n",
        "\n"
      ],
      "execution_count": 106,
      "outputs": [
        {
          "output_type": "execute_result",
          "data": {
            "text/plain": [
              "(252,)"
            ]
          },
          "metadata": {},
          "execution_count": 106
        }
      ]
    },
    {
      "cell_type": "code",
      "metadata": {
        "id": "bhEYKAPTP9yE",
        "colab": {
          "base_uri": "https://localhost:8080/",
          "height": 204
        },
        "outputId": "c833e5cb-b842-4c54-ef6d-2651ab975480"
      },
      "source": [
        "# A way to normalize the input features/variables is the Min-Max scaler. \n",
        "# By doing so, all features will be transformed into the range [0,1] meaning \n",
        "# that the minimum and maximum value of a feature/variable is going to be 0 and 1, respectively.\n",
        "# module has been imported above\n",
        "# from sklearn.preprocessing import MinMaxScaler\n",
        "\n",
        "# Create the instance of the class\n",
        "scaler = MinMaxScaler(feature_range=(0, 1))\n",
        "# create a copy of the data to perform scaling on\n",
        "google_N = google.copy()\n",
        "\n",
        "# Generally, scikit-learn works on any numeric data stored as numpy arrays or scipy sparse matrices. \n",
        "# Other types that are convertible to numeric arrays such as pandas DataFrame are also acceptable.\n",
        "\n",
        "# Create a variable with the values in the Close Column converted to a numpy array\n",
        "# This will return a numpy arrany with 1 dimension (checked using Close_N.ndim)\n",
        "Close_N = google_N.Close.to_numpy()\n",
        "# Reshape is used to give a new shape to an array without changing its data.\n",
        "# Scikit-learn has been built to expect array shapes that both represent \n",
        "  # (1) the number of samples and \n",
        "  # (2) the dimensionality and hence number of features in each sample.\n",
        "# We have 1 feature in this case and multiple samples (-1)\n",
        "Close_N = Close_N.reshape(-1, 1)\n",
        "# Fit to data, then transform it.\n",
        "Close_N = scaler.fit_transform(X)\n",
        "# Add the normalized close column to the dataset\n",
        "google_N[\"Close_N\"] = Close_N\n",
        "google_N.head()\n"
      ],
      "execution_count": 107,
      "outputs": [
        {
          "output_type": "execute_result",
          "data": {
            "text/html": [
              "<div>\n",
              "<style scoped>\n",
              "    .dataframe tbody tr th:only-of-type {\n",
              "        vertical-align: middle;\n",
              "    }\n",
              "\n",
              "    .dataframe tbody tr th {\n",
              "        vertical-align: top;\n",
              "    }\n",
              "\n",
              "    .dataframe thead th {\n",
              "        text-align: right;\n",
              "    }\n",
              "</style>\n",
              "<table border=\"1\" class=\"dataframe\">\n",
              "  <thead>\n",
              "    <tr style=\"text-align: right;\">\n",
              "      <th></th>\n",
              "      <th>Date</th>\n",
              "      <th>Close</th>\n",
              "      <th>Close_N</th>\n",
              "    </tr>\n",
              "  </thead>\n",
              "  <tbody>\n",
              "    <tr>\n",
              "      <th>0</th>\n",
              "      <td>2020-10-19</td>\n",
              "      <td>1534.609985</td>\n",
              "      <td>0.012848</td>\n",
              "    </tr>\n",
              "    <tr>\n",
              "      <th>1</th>\n",
              "      <td>2020-10-20</td>\n",
              "      <td>1555.930054</td>\n",
              "      <td>0.028074</td>\n",
              "    </tr>\n",
              "    <tr>\n",
              "      <th>2</th>\n",
              "      <td>2020-10-21</td>\n",
              "      <td>1593.310059</td>\n",
              "      <td>0.054770</td>\n",
              "    </tr>\n",
              "    <tr>\n",
              "      <th>3</th>\n",
              "      <td>2020-10-22</td>\n",
              "      <td>1615.329956</td>\n",
              "      <td>0.070496</td>\n",
              "    </tr>\n",
              "    <tr>\n",
              "      <th>4</th>\n",
              "      <td>2020-10-23</td>\n",
              "      <td>1641.000000</td>\n",
              "      <td>0.088829</td>\n",
              "    </tr>\n",
              "  </tbody>\n",
              "</table>\n",
              "</div>"
            ],
            "text/plain": [
              "         Date        Close   Close_N\n",
              "0  2020-10-19  1534.609985  0.012848\n",
              "1  2020-10-20  1555.930054  0.028074\n",
              "2  2020-10-21  1593.310059  0.054770\n",
              "3  2020-10-22  1615.329956  0.070496\n",
              "4  2020-10-23  1641.000000  0.088829"
            ]
          },
          "metadata": {},
          "execution_count": 107
        }
      ]
    },
    {
      "cell_type": "code",
      "metadata": {
        "colab": {
          "base_uri": "https://localhost:8080/",
          "height": 376
        },
        "id": "9QVGnG8WaN9A",
        "outputId": "69001b14-8f2c-4a60-8afb-14913275fbf1"
      },
      "source": [
        "#fixing the dates for plotting\n",
        "googleN['Date'] = pd.to_datetime(google['Date'])\n",
        "googleN = googleN.sort_values('Date')\n",
        "\n",
        "#Assign values for plotting\n",
        "price_close = googleN['Close']\n",
        "price_date = googleN['Date']\n",
        "\n",
        "# Plotting the data\n",
        "plt.plot(price_date, price_close)\n",
        "plt.title('Google Stock Over Time') # Set the title\n",
        "plt.xlabel('Date') # Set the X-axis label\n",
        "plt.ylabel('Closing Price') # Set the y - axis label\n",
        "plt.show() # show the plot"
      ],
      "execution_count": 117,
      "outputs": [
        {
          "output_type": "display_data",
          "data": {
            "image/png": "[encoded data removed]",
            "text/plain": [
              "<Figure size 576x396 with 1 Axes>"
            ]
          },
          "metadata": {}
        }
      ]
    },
    {
      "cell_type": "code",
      "metadata": {
        "colab": {
          "base_uri": "https://localhost:8080/"
        },
        "id": "r1suJLeU2VIZ",
        "outputId": "2057a578-2cc2-42b9-da00-71e42189b210"
      },
      "source": [
        "googleN.info()"
      ],
      "execution_count": 97,
      "outputs": [
        {
          "output_type": "stream",
          "name": "stdout",
          "text": [
            "<class 'pandas.core.frame.DataFrame'>\n",
            "Int64Index: 252 entries, 0 to 251\n",
            "Data columns (total 3 columns):\n",
            " #   Column   Non-Null Count  Dtype         \n",
            "---  ------   --------------  -----         \n",
            " 0   Date     252 non-null    datetime64[ns]\n",
            " 1   Close    252 non-null    float64       \n",
            " 2   Close_N  252 non-null    float64       \n",
            "dtypes: datetime64[ns](1), float64(2)\n",
            "memory usage: 7.9 KB\n"
          ]
        }
      ]
    }
  ]
}