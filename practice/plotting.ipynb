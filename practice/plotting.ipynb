{
 "cells": [
  {
   "cell_type": "code",
   "execution_count": 8,
   "source": [
    "\n",
    "my_address_book = {\n",
    "    \"David\": {\n",
    "        \"mobile phone number\": \"123-456-7890\",\n",
    "        \"work phone number\": \"098-765-4321\",\n",
    "        \"personal email address\": \"david@home-email.com\",\n",
    "        \"home address\": \"1234 Somewhere Dr., Denver, CO, 80221 USA\",\n",
    "    },\n",
    "    \"Zofia\": {\n",
    "        \"work phone number\": \"098-765-4321\",\n",
    "        \"work address\": \"4321 Workplace St., New York, NY, 10001 USA\",\n",
    "    },\n",
    "}\n",
    "\n",
    "print(\"Enter the name:\")\n",
    "search_name = input()\n",
    "\n",
    "if search_name in my_address_book.keys():\n",
    "    print(f\"Contact information found for {search_name}!\")\n",
    "    for key, value in my_address_book.get(search_name, \"No Contact\" ).items():\n",
    "        print(f\"{search_name} can be reached via their {key} at {value} \")\n",
    "\n"
   ],
   "outputs": [
    {
     "output_type": "stream",
     "name": "stdout",
     "text": [
      "Enter the name:\n",
      "No contact information found for Phillip! Be sure to ask them for their contact details next time you see them.\n"
     ]
    }
   ],
   "metadata": {}
  },
  {
   "cell_type": "code",
   "execution_count": 8,
   "source": [
    "\n",
    "my_address_book = {\n",
    "    \"David\": {\n",
    "        \"mobile phone number\": \"123-456-7890\",\n",
    "        \"work phone number\": \"098-765-4321\",\n",
    "        \"personal email address\": \"david@home-email.com\",\n",
    "        \"home address\": \"1234 Somewhere Dr., Denver, CO, 80221 USA\",\n",
    "    },\n",
    "    \"Zofia\": {\n",
    "        \"work phone number\": \"098-765-4321\",\n",
    "        \"work address\": \"4321 Workplace St., New York, NY, 10001 USA\",\n",
    "    },\n",
    "}\n",
    "\n",
    "print(\"Enter the name:\")\n",
    "search_name = input()\n",
    "\n",
    "if search_name in my_address_book.keys():\n",
    "    print(f\"Contact information found for {search_name}!\")\n",
    "    for key, value in my_address_book.get(search_name, ).items():\n",
    "        print(f\"{search_name} can be reached via their {key} at {value} \")\n",
    "\n",
    "else:\n",
    "    print(\n",
    "        f\"No contact information found for {search_name}! Be sure to ask them for their contact details next time you see them.\")\n",
    "\n"
   ],
   "outputs": [
    {
     "output_type": "stream",
     "name": "stdout",
     "text": [
      "Enter the name:\n",
      "No contact information found for Phillip! Be sure to ask them for their contact details next time you see them.\n"
     ]
    }
   ],
   "metadata": {}
  },
  {
   "cell_type": "code",
   "execution_count": null,
   "source": [],
   "outputs": [],
   "metadata": {}
  }
 ],
 "metadata": {
  "orig_nbformat": 4,
  "language_info": {
   "name": "python",
   "version": "3.9.2",
   "mimetype": "text/x-python",
   "codemirror_mode": {
    "name": "ipython",
    "version": 3
   },
   "pygments_lexer": "ipython3",
   "nbconvert_exporter": "python",
   "file_extension": ".py"
  },
  "kernelspec": {
   "name": "python3",
   "display_name": "Python 3.9.2 64-bit"
  },
  "interpreter": {
   "hash": "e7370f93d1d0cde622a1f8e1c04877d8463912d04d973331ad4851f04de6915a"
  }
 },
 "nbformat": 4,
 "nbformat_minor": 2
}