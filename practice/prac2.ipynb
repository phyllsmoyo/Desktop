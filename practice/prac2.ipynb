{
 "cells": [
  {
   "cell_type": "code",
   "execution_count": 4,
   "source": [
    "# Question 1\n",
    "\n",
    "# Accepting the user input\n",
    "user_file_name = input('What is the fil name: ')\n",
    "if user_file_name == \"\":\n",
    "    print(\"File name is empty\")\n",
    "    exit(0)\n",
    "elif not user_file_name.endswith(\".txt\"):\n",
    "    print(\"File name is invalid\")\n",
    "else:\n",
    "    f = open(user_file_name,\"w+\")\n",
    "    f.close()\n",
    "\n"
   ],
   "outputs": [],
   "metadata": {}
  },
  {
   "cell_type": "code",
   "execution_count": 9,
   "source": [
    "# Question 2\n",
    "import os\n",
    "user_file_name = input('What is the file name: ')\n",
    "if user_file_name == \"\":\n",
    "    print(\"File name is empty\")\n",
    "    exit(0)\n",
    "elif not user_file_name.endswith(\".txt\"):\n",
    "    print(\"File name is invalid\")\n",
    "    exit(0)\n",
    "else:\n",
    "    f = open(user_file_name,\"w+\")\n",
    "    f.write(\"id,enroll_year,name,stream,student,faculty,source_file_path\")\n",
    "    f.close()\n",
    "\n",
    "user_file_root = os.path.dirname(os.path.abspath(user_file_name))\n",
    "user_file_path = os.path.join(user_file_root, user_file_name)\n",
    "print(user_file_path)\n",
    "#print(f\"{user_file_name}: {user_file_path}\")\n"
   ],
   "outputs": [
    {
     "output_type": "stream",
     "name": "stdout",
     "text": [
      "/home/phyllsmoyo/Desktop/homework/practice/tools.txt\n"
     ]
    }
   ],
   "metadata": {}
  },
  {
   "cell_type": "code",
   "execution_count": 39,
   "source": [
    "# Question 3\n",
    "import os\n",
    "user_file_name = input('What is the fil name: ')\n",
    "if user_file_name == \"\":\n",
    "    print(\"File name is empty\")\n",
    "    exit(0)\n",
    "elif not user_file_name.endswith(\".txt\"):\n",
    "    print(\"File name is invalid\")\n",
    "else:\n",
    "    f = open(user_file_name,\"w+\")\n",
    "    f.write(\"id,enroll_year,name,stream,student,faculty,source_file_path\")\n",
    "    f.close()\n",
    "\n",
    "path = '/home/phyllsmoyo/Desktop/practice/College'\n",
    "# Generate the file names in a directory tree by walking the tree\n",
    "for root, folders, files in os.walk(path):\n",
    "    # Loop through the list of files\n",
    "    \n",
    "    # print(files)\n",
    "    for file in files:\n",
    "        # Join the folder path and the name of the file\n",
    "        # to form a file_path\n",
    "        file_path = os.path.join(root, file)\n",
    "        #print(file_path)\n",
    "        # Check if file path is valid and the file is not empty\n",
    "        if os.path.isfile(file_path) and (os.path.getsize(file_path) > 0):\n",
    "            #print(\"The file is valid\")\n",
    "            with open(file_path, mode='r') as input_file, open(user_file_path, mode='a') as output_file:\n",
    "            # Iterate over each line in the file\n",
    "                for line in input_file.read().splitlines():\n",
    "                    #Separate each item in the line\n",
    "                    #print(line)\n",
    "                    items = line.split(\",\")\n",
    "                    #print(items)\n",
    "                    #print(file)\n",
    "                    stream = os.path.basename(os.path.dirname(file_path))\n",
    "                    items.extend([\"Y\", \"N\", file_path],\"\\n\")\n",
    "                    item_string = \",\".join(items)\n",
    "                    \n",
    "                    output_file.write(item_string)\n",
    "                    \n",
    "                    \n",
    "        \n",
    "            #print(items)\n",
    "\n",
    "                    "
   ],
   "outputs": [],
   "metadata": {}
  },
  {
   "cell_type": "code",
   "execution_count": 36,
   "source": [
    "items"
   ],
   "outputs": [
    {
     "output_type": "execute_result",
     "data": {
      "text/plain": [
       "['7',\n",
       " '2001',\n",
       " 'faculty 4',\n",
       " 'Y',\n",
       " 'N',\n",
       " '/home/phyllsmoyo/Desktop/practice/College/Stream 1/student details.txt']"
      ]
     },
     "metadata": {},
     "execution_count": 36
    }
   ],
   "metadata": {}
  },
  {
   "cell_type": "code",
   "execution_count": 24,
   "source": [
    "if \"student\" in file:\n",
    "    \n",
    "    items = items.extend([\"Y\", \"N\", file_path])\n",
    "    print(items)\n",
    "    #items = \",\".join(items)\n",
    "                        \n",
    "elif \"faculty\" in file:\n",
    "    items = items.extend([\"N\", \"Y\", file_path])\n",
    "    print(items)\n",
    "    #items = \",\".join(items)\n",
    "else:\n",
    "    pass\n",
    "     "
   ],
   "outputs": [
    {
     "output_type": "stream",
     "name": "stdout",
     "text": [
      "None\n"
     ]
    }
   ],
   "metadata": {}
  },
  {
   "cell_type": "code",
   "execution_count": 27,
   "source": [
    "items"
   ],
   "outputs": [],
   "metadata": {}
  },
  {
   "cell_type": "code",
   "execution_count": null,
   "source": [],
   "outputs": [],
   "metadata": {}
  }
 ],
 "metadata": {
  "orig_nbformat": 4,
  "language_info": {
   "name": "python",
   "version": "3.9.7",
   "mimetype": "text/x-python",
   "codemirror_mode": {
    "name": "ipython",
    "version": 3
   },
   "pygments_lexer": "ipython3",
   "nbconvert_exporter": "python",
   "file_extension": ".py"
  },
  "kernelspec": {
   "name": "python3",
   "display_name": "Python 3.9.7 64-bit"
  },
  "interpreter": {
   "hash": "e7370f93d1d0cde622a1f8e1c04877d8463912d04d973331ad4851f04de6915a"
  }
 },
 "nbformat": 4,
 "nbformat_minor": 2
}